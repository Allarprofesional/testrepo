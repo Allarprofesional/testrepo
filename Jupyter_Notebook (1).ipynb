{
  "metadata": {
    "kernelspec": {
      "name": "python",
      "display_name": "Pyolite",
      "language": "python"
    },
    "language_info": {
      "codemirror_mode": {
        "name": "python",
        "version": 3
      },
      "file_extension": ".py",
      "mimetype": "text/x-python",
      "name": "python",
      "nbconvert_exporter": "python",
      "pygments_lexer": "ipython3",
      "version": "3.8"
    }
  },
  "nbformat_minor": 4,
  "nbformat": 4,
  "cells": [
    {
      "cell_type": "markdown",
      "source": "<center>\n    <img src=\"https://s3-api.us-geo.objectstorage.softlayer.net/cf-courses-data/CognitiveClass/Logos/organization_logo/organization_logo.png\" width=\"300\" alt=\"cognitiveclass.ai logo\"  />\n</center>\n",
      "metadata": {}
    },
    {
      "cell_type": "markdown",
      "source": "<a href=\"https://dataplatform.cloud.ibm.com/gallery\">IBM Cloud Gallery</a>",
      "metadata": {}
    },
    {
      "cell_type": "markdown",
      "source": "# My Jypyter Notebook on IBM Watson sutido",
      "metadata": {}
    },
    {
      "cell_type": "markdown",
      "source": "  <b>Joshua Allard<b/>\n    \n    DE QUANTUM AI",
      "metadata": {}
    },
    {
      "cell_type": "markdown",
      "source": "_data science is one of the core aspects to working in AI, leanring the ins and outs of AI is key to achiving a Quantum AI specialist level_",
      "metadata": {}
    },
    {
      "cell_type": "markdown",
      "source": "### a syple way to print statments in python",
      "metadata": {}
    },
    {
      "cell_type": "code",
      "source": "print(\"Hello World!\")",
      "metadata": {
        "trusted": true
      },
      "execution_count": 3,
      "outputs": [
        {
          "name": "stdout",
          "text": "Hello World!\n",
          "output_type": "stream"
        }
      ]
    },
    {
      "cell_type": "markdown",
      "source": "the steps include the following \n- type the print statment \n- use paratheses\n- print your string inside quotes\n- hit enter \n- do note forget quotes print<s>(hello world)</s>\n\nmore information can be found [here](http://https://realpython.com/python-print/)",
      "metadata": {}
    },
    {
      "cell_type": "code",
      "source": "",
      "metadata": {},
      "execution_count": null,
      "outputs": []
    }
  ]
}